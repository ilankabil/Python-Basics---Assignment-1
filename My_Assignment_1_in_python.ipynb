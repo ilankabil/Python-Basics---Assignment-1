{
  "cells": [
    {
      "cell_type": "markdown",
      "metadata": {
        "id": "QCUS-Bq8-YhL"
      },
      "source": [
        "# Python Basic questions and answers:-\n",
        "\n",
        "1.What is Python, and why is it popular?\n",
        "\n",
        "- Python is an high level interperted programming language, it is known for its readability and ease of use.\n",
        "- It have created by Guido van Rossum and first released in 1991.\n",
        "\n",
        "- Why python is popular means:-\n",
        "\n",
        "  - Python is free and open source, it is free to use and its source code can be modified.\n",
        "  - it is an interpreted language it runs line by line, which is minimal for debugging and testing.\n",
        "  - Easy to read and understand and its english is like syntax that makes it easy to write and read code.\n",
        "  - it is an object oriented Programming Language which Supports OOP principles like classes etc..\n",
        "  - hundreds of libraries and frameworks, it Offers powerful libraries like NumPy, Django, TensorFlow for faster development.\n",
        "\n",
        "2.What is an interpreter in Python?\n",
        "- An interpreter is a computer program that reads code written in a high-level language and converts it into machine language so the computer can understand it. It works by translating and running the code line by line, which makes it slower than other methods. This process is called interpretation.\n",
        "\n",
        "- Interpreter working:-\n",
        " - Read the code\n",
        " - Translate  \n",
        " - Execute\n",
        " - Repeat\n",
        "\n",
        "3.What are pre-defined keywords in Python?\n",
        "\n",
        " - Pre-defined keywords in Python are special words that Python already understands and uses to do certain tasks.You can’t make your own meaning for them or use them as names for things like variables.\n",
        " - Example: if, else, for, while, True, False.\n",
        "\n",
        "4.Can keywords be used as variable names?\n",
        "\n",
        "- No, you cannot use keywords as variable names in python\n",
        "- Becausae of, python keywords are reserved words that have special meanings in the language syntax. Using them as variable names would confuse the interpreter.\n",
        "\n",
        "5.What is mutability in Python?\n",
        "\n",
        "- Mutability in Python means whether you can change something after you create it. List is mutable, String cannot be mutable.\n",
        "  - Mutable → You can change it later.\n",
        "  - Immutable → You cannot change it once its made.\n",
        "\n",
        "6.Why are lists mutable, but tuples are immutable?\n",
        "\n",
        "- Lists are mutable because Python lets you change, add, or remove items after you make them.\n",
        "  - Designed for dynamic data.\n",
        "  - Resizable in memory.\n",
        "- Tuples are immutable because once you create them, you cannot change their items.\n",
        "  - Tuples take up less memory and are slightly faster than lists.\n",
        "\n",
        "7.What is the difference between “==” and “is” operators in Python?\n",
        "\n",
        "- \"==\" Operator (Equality) (Comparsion Operator)\n",
        "  - Checks if values are equal.\n",
        "  - Compares the contents of two objects.\n",
        "  - Returns True if the values look the same.\n",
        "\n",
        "- \"is\" Operator (Identity Operator)\n",
        "  - Checks if two variables point to the same object in memory.\n",
        "  - Compares the identity (memory address), not the value.\n",
        "  - Returns True if both refer to the exact same object.\n",
        "\n",
        "  "
      ]
    },
    {
      "cell_type": "code",
      "execution_count": null,
      "metadata": {
        "colab": {
          "base_uri": "https://localhost:8080/"
        },
        "id": "LKupc--mNt-W",
        "outputId": "bdeac7d9-65a5-4aa5-b92e-cfffba7acc9f"
      },
      "outputs": [
        {
          "name": "stdout",
          "output_type": "stream",
          "text": [
            "True\n",
            "False\n"
          ]
        }
      ],
      "source": [
        "x = [10, 50]\n",
        "y = [10, 50]\n",
        "print(x == y)\n",
        "\n",
        "x = [10,50]\n",
        "y = [10,50]\n",
        "print(x is y)"
      ]
    },
    {
      "cell_type": "markdown",
      "metadata": {
        "id": "aLGIrV5IOIAu"
      },
      "source": [
        "8.What are logical operators in Python?\n",
        "\n",
        "- Logical operators in Python are special words that help you connect conditions and check if they are True or False.\n",
        "\n",
        "- They are:-\n",
        "  - and → True if both conditions are true.\n",
        "  - or → True if at least one condition is true.\n",
        "  - not → Reverses True to False, and False to True."
      ]
    },
    {
      "cell_type": "code",
      "execution_count": null,
      "metadata": {
        "colab": {
          "base_uri": "https://localhost:8080/"
        },
        "id": "-8wSzPJyPBsN",
        "outputId": "dae39e34-4afa-4c91-855d-bb35b0e8745e"
      },
      "outputs": [
        {
          "name": "stdout",
          "output_type": "stream",
          "text": [
            "True\n",
            "True\n",
            "False\n"
          ]
        }
      ],
      "source": [
        "x = 10\n",
        "print(x > 8 and x < 50)\n",
        "print(x > 8 or x > 50)\n",
        "print(not(x > 8))"
      ]
    },
    {
      "cell_type": "markdown",
      "metadata": {
        "id": "ZMrE-eXiPSk-"
      },
      "source": [
        "9.What is type casting in Python ?\n",
        "\n",
        "- Type casting in Python means changing a value from one type to another.\n",
        "- Example:- turning a number into a string, or a string into a number."
      ]
    },
    {
      "cell_type": "code",
      "execution_count": null,
      "metadata": {
        "colab": {
          "base_uri": "https://localhost:8080/"
        },
        "id": "d7ZgCWUaPuW8",
        "outputId": "a948f875-3736-4c59-9c52-4b744dd01663"
      },
      "outputs": [
        {
          "name": "stdout",
          "output_type": "stream",
          "text": [
            "5.0\n",
            "10\n"
          ]
        }
      ],
      "source": [
        "x = 5\n",
        "y = float(x) #int to float\n",
        "print(y)\n",
        "\n",
        "a = \"10\"\n",
        "b = int(a) #string to int\n",
        "print(b)"
      ]
    },
    {
      "cell_type": "markdown",
      "metadata": {
        "id": "MK0nTNV8OClH"
      },
      "source": [
        "10.What is the difference between implicit and explicit type casting?\n",
        "\n",
        "- Implicit Type Casting\n",
        "  - Done automatically by Python\n",
        "  - Happens when combining different data types\n",
        "  - Converts from lower to higher precision to avoid data loss\n",
        "  - No need for user involvement.\n",
        "\n",
        "- Explicit Type Casting.\n",
        "  - Done manually by the programmer.\n",
        "  - Uses built-in functions like int(), float(), str()\n",
        "  - Needed when Python can’t automatically convert, or you want full control\n",
        "\n",
        "11.What is the purpose of conditional statements in Python?\n",
        "\n",
        "- The purpose of conditional statement is, weather the value or inputs, meets the condion or not.\n",
        "  - Control the flow of execution based on conditions.it help programs make choices (like “if this happens, do that”).\n",
        "  - it enable dynamic behavior based on user input, data, or state. it avoid unnecessary execution of code blocks. conditional statement make programs smarter and interactive.\n",
        "\n",
        "12.How does the elif statement works?\n",
        "\n",
        "- The elif statement in Python means “else if”.It checks another condition if the first if condition was False.\n",
        "- How it works:\n",
        "  - Python checks the if condition first.\n",
        "  - If if is False, it moves to the elif condition.\n",
        "  - If elif is True, it runs that block and skips the rest.\n",
        "  - If all are False, it goes to else (if there is one).\n",
        "\n",
        "13.What is the difference between for and while loop?\n",
        "\n",
        "- for loop:- Runs a set number of times, usually when you know exactly how many times you want to repeat.\n",
        "- while loop:- Keeps running as long as a condition is True, even if you don't know how many times in advance.\n",
        "\n",
        "\n",
        "\n"
      ]
    },
    {
      "cell_type": "code",
      "execution_count": null,
      "metadata": {
        "colab": {
          "base_uri": "https://localhost:8080/"
        },
        "collapsed": true,
        "id": "64WowhWeS9A9",
        "outputId": "f9a1f5b4-8b93-4b6a-9b9b-11ccc20fbda6"
      },
      "outputs": [
        {
          "name": "stdout",
          "output_type": "stream",
          "text": [
            "1\n",
            "2\n",
            "3\n",
            "4\n",
            "0\n",
            "1\n",
            "2\n",
            "3\n",
            "4\n"
          ]
        }
      ],
      "source": [
        "for i in range(1,5):\n",
        "    print(i)\n",
        "\n",
        "x = 0\n",
        "while x < 5:\n",
        "    print(x)\n",
        "    x += 1"
      ]
    },
    {
      "cell_type": "markdown",
      "metadata": {
        "id": "dsc3YYnqTTt3"
      },
      "source": [
        "14.Describe a scenario where a while loop is more suitable than a for loop?\n",
        "\n",
        "- A while loop is more suitable when you don't know in advance how many times the loop will run, and you want it to keep going until a certain condition is met.\n",
        "\n",
        "- Here, we don’t know how many attempts the user will need, so a while loop works better than a for loop."
      ]
    },
    {
      "cell_type": "code",
      "execution_count": null,
      "metadata": {
        "id": "u3Xtxhn1T-Ka"
      },
      "outputs": [],
      "source": [
        "password = \"\"\n",
        "while password != \"python123\":\n",
        "    password = input(\"Enter password: \")\n",
        "print(\"Access granted!\")"
      ]
    },
    {
      "cell_type": "markdown",
      "metadata": {
        "id": "0H_FeE0XUcdl"
      },
      "source": [
        "# Practicles:-"
      ]
    },
    {
      "cell_type": "code",
      "execution_count": null,
      "metadata": {
        "colab": {
          "base_uri": "https://localhost:8080/"
        },
        "id": "PMScTip8-A0q",
        "outputId": "2195b50f-bb57-498c-8ca9-ee43c6945fb1"
      },
      "outputs": [
        {
          "name": "stdout",
          "output_type": "stream",
          "text": [
            "Hello, World!\n"
          ]
        }
      ],
      "source": [
        "#1.Write a Python program to print \"Hello, World!\"\n",
        "\n",
        "print(\"Hello, World!\")"
      ]
    },
    {
      "cell_type": "code",
      "execution_count": null,
      "metadata": {
        "colab": {
          "base_uri": "https://localhost:8080/"
        },
        "id": "cSFVIzUxUqT3",
        "outputId": "6288f70c-372a-4c51-c831-981ebacf14dc"
      },
      "outputs": [
        {
          "name": "stdout",
          "output_type": "stream",
          "text": [
            "My name is Kabil and age is 21\n"
          ]
        }
      ],
      "source": [
        "2.#2 Write a Python program that displays your name and age\n",
        "name=\"Kabil\"\n",
        "age=21\n",
        "print(f\"My name is {name} and age is {age}\")"
      ]
    },
    {
      "cell_type": "code",
      "execution_count": null,
      "metadata": {
        "colab": {
          "base_uri": "https://localhost:8080/"
        },
        "id": "ySl9OX8_U99u",
        "outputId": "bc2085f1-a1c7-4174-a5d6-3d8c0c38bc56"
      },
      "outputs": [
        {
          "name": "stdout",
          "output_type": "stream",
          "text": [
            "['False', 'None', 'True', 'and', 'as', 'assert', 'async', 'await', 'break', 'class', 'continue', 'def', 'del', 'elif', 'else', 'except', 'finally', 'for', 'from', 'global', 'if', 'import', 'in', 'is', 'lambda', 'nonlocal', 'not', 'or', 'pass', 'raise', 'return', 'try', 'while', 'with', 'yield']\n"
          ]
        }
      ],
      "source": [
        "#3.Write code to print all the pre-defined keywords in Python using the keyword library\n",
        "import keyword\n",
        "print(keyword.kwlist)"
      ]
    },
    {
      "cell_type": "code",
      "execution_count": null,
      "metadata": {
        "id": "WcTLYtraVMHY"
      },
      "outputs": [],
      "source": [
        "#5. Create a list and tuple in Python, and demonstrate how attempting to change an element works differently for each.\n",
        "my_lst=[1,2,6,4]#list\n",
        "print(\"original list: \",my_lst)\n",
        "#changing an element in list\n",
        "my_lst[2]=5\n",
        "print(\"list after changing an element :\",my_lst)\n",
        "\n",
        "print()\n",
        "\n",
        "my_tuple=(2,4,3,6,) #tuple\n",
        "print(\"original tuple: \",my_tuple)\n",
        "#changing an element in list\n",
        "\n",
        "my_tuple[2]=5\n",
        "print(\"Tuple after changing an element :\",my_tuple)"
      ]
    },
    {
      "cell_type": "code",
      "source": [
        "#4. Write a program that checks if a given word is a Python keyword.\n",
        "import keyword\n",
        "word=input(\"Enter the word\")\n",
        "list_keywords=keyword.kwlist\n",
        "if word in list_keywords:\n",
        "  print(\"It is a Keyword\")\n",
        "else:\n",
        "  print(\"It is not a keyword\")"
      ],
      "metadata": {
        "id": "KxpAdlpASy5w"
      },
      "execution_count": null,
      "outputs": []
    },
    {
      "cell_type": "code",
      "source": [
        "6.#6. Write a function to demonstrate the behavior of mutable and immutable arguments.\n",
        "def mutable():\n",
        "  my_lst=[1,2,6,4]#list\n",
        "  print(\"original list: \",my_lst)\n",
        "  #changing an element in list\n",
        "  my_lst[2]=5\n",
        "  print(\"list after changing an element :\",my_lst)\n",
        "def immutable():\n",
        "  my_tuple=(2,4,3,6,) #tuple\n",
        "  print(\"original tuple: \",my_tuple)\n",
        "  #changing an element in list\n",
        "  try:\n",
        "    my_tuple[2]=5\n",
        "    print(\"Tuple after changing an element :\",my_tuple)\n",
        "  except:\n",
        "    print(\"Tuple is Immutable\")\n",
        "\n",
        "mutable()\n",
        "immutable()"
      ],
      "metadata": {
        "id": "rJKMaObZb4pG"
      },
      "execution_count": null,
      "outputs": []
    },
    {
      "cell_type": "code",
      "source": [
        "#7. Write a program that performs basic arithmetic operations on two user-input numbers.\n",
        "num1=int(input(\"Enter the first number\"))\n",
        "num2=int(input(\"Enter the second number\"))\n",
        "print(\"Addition of two number :\",num1+num2)\n",
        "print(\"Subtraction of two number :\",num1-num2)\n",
        "print(\"Multiplication of two number :\",num1*num2)\n",
        "print(\"Division of two number :\",num1/num2)\n",
        "print(\"modulous of two number :\",num1%num2)\n",
        "print(\"Floor Division of two number :\",num1//num2)\n",
        "print(\"Exponential of two number :\",num1/num2)"
      ],
      "metadata": {
        "id": "1YajtREbcApE"
      },
      "execution_count": null,
      "outputs": []
    },
    {
      "cell_type": "code",
      "source": [
        "#8. Write a program to demonstrate the use of logical operators.\n",
        "num1=True\n",
        "num2=False\n",
        "print(\"logical Operator and :\",num1 and num2)\n",
        "print(\"logical Operator or :\",num1 or num2)\n",
        "print(\"logical Operator not :\",not num1 )"
      ],
      "metadata": {
        "id": "N5xX8iDGcG5i"
      },
      "execution_count": null,
      "outputs": []
    },
    {
      "cell_type": "code",
      "source": [
        "#9.  Write a Python program to convert user input from string to integer, float, and boolean types.\n",
        "user_input=input(\"Enter the number\")\n",
        "print(\"User_input :\",user_input)\n",
        "if user_input.isdigit():\n",
        "  #String --> integer\n",
        "  print(\"User input in integer:\",int(user_input))\n",
        "  #String --> float\n",
        "  print(\"User input in float:\",float(user_input))\n",
        "  #String --> boolean\n",
        "  print(\"User input in boolean:\",bool(user_input))\n",
        "else:\n",
        "  print(\"Invalid Input , Enter a digit\")"
      ],
      "metadata": {
        "id": "zb2WJCn0cLLA"
      },
      "execution_count": null,
      "outputs": []
    },
    {
      "cell_type": "code",
      "source": [
        "#10. Write code to demonstrate type casting with list elements.\n",
        "\n",
        "#lst1 consist of float and integer\n",
        "def implicit(lst1):\n",
        "  total_sum=sum(lst1)\n",
        "  print(total_sum)\n",
        "\n",
        "def explicit(lst2):\n",
        "  num=[int(i) for i in lst2]\n",
        "  total_sum2=sum(num)\n",
        "  print(total_sum2)\n",
        "\n",
        "#lst2 consist of string and integer\n",
        "lst1=[1,2,3.3,4.5,6.0]\n",
        "lst2=['1','2','3','4','5']\n",
        "implicit(lst1)\n",
        "explicit(lst2)"
      ],
      "metadata": {
        "id": "hr0AB-LxcLGG"
      },
      "execution_count": null,
      "outputs": []
    },
    {
      "cell_type": "code",
      "source": [
        "#11.Write a program that checks if a number is positive, negative, or zero.\n",
        "num=int(input(\"Enter the number\"))\n",
        "if num==0:\n",
        "  print(\"It is zero\")\n",
        "elif num>0:\n",
        "  print(\"It is a positive number\")\n",
        "else:\n",
        "  print(\"It is a negative number\")"
      ],
      "metadata": {
        "id": "QFi3vHKpcnLU"
      },
      "execution_count": null,
      "outputs": []
    },
    {
      "cell_type": "code",
      "source": [
        "#13.  Write a Python program to find the sum of all even numbers between 1 and 50.\n",
        "sum=0\n",
        "for i in range(2,61,2):\n",
        "  sum+=i\n",
        "print(sum)"
      ],
      "metadata": {
        "id": "8w_0lCdtcrq3"
      },
      "execution_count": null,
      "outputs": []
    },
    {
      "cell_type": "code",
      "source": [
        "#12. . Write a for loop to print numbers from 1 to 10.\n",
        "for i in range(1,11):\n",
        "  print(i)"
      ],
      "metadata": {
        "id": "91R2vkj9c0cz"
      },
      "execution_count": null,
      "outputs": []
    },
    {
      "cell_type": "code",
      "source": [
        "#14. Write a program to reverse a string using a while loop.\n",
        "string=input(\"Enter the string\")\n",
        "i=len(string)-1\n",
        "while i>=0:\n",
        "  print(string[i],end=\"\")\n",
        "  i-=1\n"
      ],
      "metadata": {
        "id": "JF-ux-FUc3Tc"
      },
      "execution_count": null,
      "outputs": []
    },
    {
      "cell_type": "code",
      "source": [
        "#15.Write a Python program to calculate the factorial of a number provided by the user using a while loop.\n",
        "num=int(input(\"Enter the nukber :\"))\n",
        "i=2\n",
        "fact=1\n",
        "while i<=num:\n",
        "  fact=fact*i\n",
        "  i+=1\n",
        "print(f\"factorial of {num} is {fact}\")"
      ],
      "metadata": {
        "id": "Tz9CYsv_c7pI"
      },
      "execution_count": null,
      "outputs": []
    }
  ],
  "metadata": {
    "colab": {
      "provenance": []
    },
    "kernelspec": {
      "display_name": "Python 3",
      "name": "python3"
    },
    "language_info": {
      "name": "python"
    }
  },
  "nbformat": 4,
  "nbformat_minor": 0
}